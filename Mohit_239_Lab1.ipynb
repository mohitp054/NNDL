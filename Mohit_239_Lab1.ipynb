{
  "nbformat": 4,
  "nbformat_minor": 0,
  "metadata": {
    "colab": {
      "provenance": []
    },
    "kernelspec": {
      "name": "python3",
      "display_name": "Python 3"
    },
    "language_info": {
      "name": "python"
    }
  },
  "cells": [
    {
      "cell_type": "markdown",
      "source": [
        "# Question 1"
      ],
      "metadata": {
        "id": "DjUbjrvY2agc"
      }
    },
    {
      "cell_type": "markdown",
      "source": [
        "Importing the Libraries."
      ],
      "metadata": {
        "id": "ldiZWWHC2Xdx"
      }
    },
    {
      "cell_type": "code",
      "execution_count": null,
      "metadata": {
        "colab": {
          "base_uri": "https://localhost:8080/"
        },
        "id": "o7DzpP9O1HSf",
        "outputId": "cf0b1c7f-d933-4923-afce-8892ba91d586"
      },
      "outputs": [
        {
          "output_type": "stream",
          "name": "stdout",
          "text": [
            "Requirement already satisfied: scikit-learn in /usr/local/lib/python3.10/dist-packages (1.5.2)\n",
            "Requirement already satisfied: numpy>=1.19.5 in /usr/local/lib/python3.10/dist-packages (from scikit-learn) (1.26.4)\n",
            "Requirement already satisfied: scipy>=1.6.0 in /usr/local/lib/python3.10/dist-packages (from scikit-learn) (1.13.1)\n",
            "Requirement already satisfied: joblib>=1.2.0 in /usr/local/lib/python3.10/dist-packages (from scikit-learn) (1.4.2)\n",
            "Requirement already satisfied: threadpoolctl>=3.1.0 in /usr/local/lib/python3.10/dist-packages (from scikit-learn) (3.5.0)\n"
          ]
        }
      ],
      "source": [
        "#importing the libraries\n",
        "import numpy as np\n",
        "import matplotlib.pyplot as plt\n",
        "from sklearn.neural_network import MLPClassifier\n",
        "from sklearn.metrics import accuracy_score\n",
        "from sklearn.neural_network import MLPClassifier\n",
        "from sklearn.model_selection import train_test_split\n",
        "!pip install scikit-learn"
      ]
    },
    {
      "cell_type": "markdown",
      "source": [
        "Create an XOR gate."
      ],
      "metadata": {
        "id": "2vmiTVPK22Jl"
      }
    },
    {
      "cell_type": "code",
      "source": [
        "# XOR Truth Table\n",
        "X = np.array([[0, 0], [0, 1], [1, 0], [1, 1]])\n",
        "y = np.array([0, 1, 1, 0])"
      ],
      "metadata": {
        "id": "DurdCB5b3BMb"
      },
      "execution_count": null,
      "outputs": []
    },
    {
      "cell_type": "markdown",
      "source": [
        "Implementing Perceptron model and train it using the XOR dataset using MCP neuron."
      ],
      "metadata": {
        "id": "gfoHVvVD3RaX"
      }
    },
    {
      "cell_type": "code",
      "source": [
        "class SingleLayerPerceptron:\n",
        "    def __init__(self, learning_rate=0.1, epochs=1000):\n",
        "        self.learning_rate = learning_rate\n",
        "        self.epochs = epochs\n",
        "        self.weights = np.random.rand(2)  # Initializing weights\n",
        "        self.bias = np.random.rand(1)  # Initializing bias\n",
        "\n",
        "    def step_function(self, x):\n",
        "        return 1 if x >= 0 else 0\n",
        "\n",
        "    def predict(self, X):\n",
        "        weighted_sum = np.dot(X, self.weights) + self.bias\n",
        "        return np.array([self.step_function(x) for x in weighted_sum])\n",
        "    def train(self, X, y):\n",
        "        for epoch in range(self.epochs):\n",
        "            for i in range(len(y)):\n",
        "                prediction = self.predict(X[i])\n",
        "                error = y[i] - prediction\n",
        "                self.weights += self.learning_rate * error * X[i]\n",
        "                self.bias += self.learning_rate * error\n",
        "\n",
        "# Training the Single Layer Perceptron\n",
        "slp = SingleLayerPerceptron()\n",
        "slp.train(X, y)\n",
        "\n",
        "# Prediction\n",
        "predictions_slp = slp.predict(X)\n",
        "print(\"Single Layer Perceptron Predictions:\", predictions_slp)\n",
        "print(\"Actual Output:\", y)"
      ],
      "metadata": {
        "colab": {
          "base_uri": "https://localhost:8080/"
        },
        "id": "8J4QQCPH3SGF",
        "outputId": "d23564ff-39b7-4ba0-f645-188d85d5295a"
      },
      "execution_count": null,
      "outputs": [
        {
          "output_type": "stream",
          "name": "stdout",
          "text": [
            "Single Layer Perceptron Predictions: [1 0 0 0]\n",
            "Actual Output: [0 1 1 0]\n"
          ]
        }
      ]
    },
    {
      "cell_type": "markdown",
      "source": [
        "Check the perfomance of the Single Layer Perceptron."
      ],
      "metadata": {
        "id": "UYPWFLF06E0E"
      }
    },
    {
      "cell_type": "code",
      "source": [
        "accuracy_slp = accuracy_score(y, predictions_slp)\n",
        "print(\"Accuracy of Single Layer Perceptron on XOR:\", accuracy_slp)"
      ],
      "metadata": {
        "colab": {
          "base_uri": "https://localhost:8080/"
        },
        "id": "Q8AYkLWB6FPs",
        "outputId": "5424b711-3f79-4910-da4d-463fb70689ea"
      },
      "execution_count": null,
      "outputs": [
        {
          "output_type": "stream",
          "name": "stdout",
          "text": [
            "Accuracy of Single Layer Perceptron on XOR: 0.25\n"
          ]
        }
      ]
    },
    {
      "cell_type": "markdown",
      "source": [
        "Training Multi Layer Perecptron."
      ],
      "metadata": {
        "id": "ZkxiP8C96cqz"
      }
    },
    {
      "cell_type": "code",
      "source": [
        "#intialize the mlp classifier\n",
        "mlp = MLPClassifier(hidden_layer_sizes=(2, 2),  # Two hidden layers with 2 neurons\n",
        "                    activation='relu',\n",
        "                    solver='adam',\n",
        "                    learning_rate_init=0.01,\n",
        "                    max_iter=1000,\n",
        "                    random_state=42)\n",
        "\n",
        "# Training the MLP\n",
        "mlp.fit(X, y)\n",
        "\n",
        "# Prediction using MLP\n",
        "predictions_mlp = mlp.predict(X)\n",
        "print(\"Multi-Layer Perceptron Predictions:\", predictions_mlp)\n",
        "print(\"Actual Output:\", y)"
      ],
      "metadata": {
        "colab": {
          "base_uri": "https://localhost:8080/"
        },
        "id": "0qA0HJou6dHu",
        "outputId": "b6e7d68c-b62e-4f56-b2dd-d695a5d5b73e"
      },
      "execution_count": null,
      "outputs": [
        {
          "output_type": "stream",
          "name": "stdout",
          "text": [
            "Multi-Layer Perceptron Predictions: [1 1 1 0]\n",
            "Actual Output: [0 1 1 0]\n"
          ]
        }
      ]
    },
    {
      "cell_type": "markdown",
      "source": [
        "Accuracy after Multi Layer Perceptron."
      ],
      "metadata": {
        "id": "Iy_YO4dj_RBS"
      }
    },
    {
      "cell_type": "code",
      "source": [
        "accuracy_mlp = accuracy_score(y, predictions_mlp)\n",
        "print(\"Accuracy of Multi Layer Perceptron on XOR:\", accuracy_mlp)"
      ],
      "metadata": {
        "colab": {
          "base_uri": "https://localhost:8080/"
        },
        "id": "rMgFAysj_HkY",
        "outputId": "a0d39fb7-ca8a-4707-d518-96810b940455"
      },
      "execution_count": null,
      "outputs": [
        {
          "output_type": "stream",
          "name": "stdout",
          "text": [
            "Accuracy of Multi Layer Perceptron on XOR: 0.75\n"
          ]
        }
      ]
    },
    {
      "cell_type": "markdown",
      "source": [
        "Visualization."
      ],
      "metadata": {
        "id": "ujqZ31c5-i_b"
      }
    },
    {
      "cell_type": "code",
      "source": [
        "accuracy_mlp = accuracy_score(y, predictions_mlp)\n",
        "print(\"Accuracy of Multi-Layer Perceptron on XOR:\", accuracy_mlp)\n",
        "\n",
        "# Visualization\n",
        "plt.scatter(X[:, 0], X[:, 1], c=predictions_mlp, marker='o', label='Predicted')\n",
        "plt.scatter(X[:, 0], X[:, 1], c=y, marker='x', label='Actual')\n",
        "plt.legend()\n",
        "plt.title(\"XOR Classification with Multi-Layer Perceptron\")\n",
        "plt.show()"
      ],
      "metadata": {
        "colab": {
          "base_uri": "https://localhost:8080/",
          "height": 469
        },
        "id": "dCbavTow-jgs",
        "outputId": "2f950ffc-108d-4e5e-d50b-1bbd604d0536"
      },
      "execution_count": null,
      "outputs": [
        {
          "output_type": "stream",
          "name": "stdout",
          "text": [
            "Accuracy of Multi-Layer Perceptron on XOR: 0.75\n"
          ]
        },
        {
          "output_type": "display_data",
          "data": {
            "text/plain": [
              "<Figure size 640x480 with 1 Axes>"
            ],
            "image/png": "[encoded data removed]"
          },
          "metadata": {}
        }
      ]
    },
    {
      "cell_type": "markdown",
      "source": [
        "### Interpretation about the question."
      ],
      "metadata": {
        "id": "Fc9HjUvl_9F5"
      }
    },
    {
      "cell_type": "markdown",
      "source": [
        "In this process, we attempt to classify the XOR gate outputs using two types of neural models:\n",
        "\n",
        "1. **Single-Layer Perceptron (SLP)**: This simple neural model tries to classify the XOR data. However, XOR is not linearly separable, so the SLP fails to classify it correctly.\n",
        "   \n",
        "2. **Multi-Layer Perceptron (MLP)**: By adding a hidden layer, the MLP can handle non-linear relationships. It successfully learns to classify XOR, demonstrating its ability to solve complex, non-linear problems.\n",
        "\n",
        "In conclusion, single layer perceptron cant solve the case of XOR, but Multi Layer Perecptron can."
      ],
      "metadata": {
        "id": "F8Rb4Sh1ACwf"
      }
    },
    {
      "cell_type": "markdown",
      "source": [
        "# Question 2.B"
      ],
      "metadata": {
        "id": "g_wfReTDAv2I"
      }
    },
    {
      "cell_type": "markdown",
      "source": [
        "Import Libraries."
      ],
      "metadata": {
        "id": "nIwfqUEYCO23"
      }
    },
    {
      "cell_type": "code",
      "source": [
        "import pandas as pd\n",
        "import numpy as np\n",
        "from sklearn.model_selection import train_test_split\n",
        "from sklearn.preprocessing import LabelEncoder\n",
        "from tensorflow.keras.preprocessing.text import Tokenizer\n",
        "from tensorflow.keras.preprocessing.sequence import pad_sequences\n",
        "from tensorflow.keras.models import Sequential\n",
        "from tensorflow.keras.layers import Dense, Embedding, LSTM\n",
        "import matplotlib.pyplot as plt"
      ],
      "metadata": {
        "id": "ZowJey2JCTVO"
      },
      "execution_count": 47,
      "outputs": []
    },
    {
      "cell_type": "markdown",
      "source": [
        "Load Dataset."
      ],
      "metadata": {
        "id": "fR3kwCWjC5vX"
      }
    },
    {
      "cell_type": "code",
      "source": [
        "df = pd.read_csv('/content/IMDB Dataset - IMDB Dataset.csv')\n",
        "print(df.head())"
      ],
      "metadata": {
        "colab": {
          "base_uri": "https://localhost:8080/"
        },
        "id": "d4LYuKkvC8nK",
        "outputId": "5b0a88c2-78fa-4f35-c7a8-53ac8dfc555c"
      },
      "execution_count": 48,
      "outputs": [
        {
          "output_type": "stream",
          "name": "stdout",
          "text": [
            "                                              review sentiment\n",
            "0  One of the other reviewers has mentioned that ...  positive\n",
            "1  A wonderful little production. <br /><br />The...  positive\n",
            "2  I thought this was a wonderful way to spend ti...  positive\n",
            "3  Basically there's a family where a little boy ...  negative\n",
            "4  Petter Mattei's \"Love in the Time of Money\" is...  positive\n"
          ]
        }
      ]
    },
    {
      "cell_type": "markdown",
      "source": [
        "Label Coding, Tokenization, Padding Sequences."
      ],
      "metadata": {
        "id": "lWum_flHEYYu"
      }
    },
    {
      "cell_type": "code",
      "source": [
        "#LabelCoding\n",
        "df['sentiment'] = df['review'].map({'positive': 1, 'negative': 0})\n",
        "\n",
        "#tokenization\n",
        "tokenizer = Tokenizer(num_words=5000)\n",
        "tokenizer.fit_on_texts(df['review'])\n",
        "sequences = tokenizer.texts_to_sequences(df['review'])\n",
        "\n",
        "#paddingsequences\n",
        "X = pad_sequences(sequences, maxlen=100)\n",
        "y = df['sentiment'].values"
      ],
      "metadata": {
        "id": "rnukXMxWDPED"
      },
      "execution_count": 51,
      "outputs": []
    },
    {
      "cell_type": "markdown",
      "source": [
        "Test-Train split."
      ],
      "metadata": {
        "id": "dYUiTCNfEQp-"
      }
    },
    {
      "cell_type": "code",
      "source": [
        "X_train, X_test, y_train, y_test = train_test_split(X, y, test_size=0.2, random_state=42)"
      ],
      "metadata": {
        "id": "kwktc8rMEUT_"
      },
      "execution_count": 52,
      "outputs": []
    },
    {
      "cell_type": "markdown",
      "source": [
        "Defining the Model, Compliation."
      ],
      "metadata": {
        "id": "TAQBPGZ5EftP"
      }
    },
    {
      "cell_type": "code",
      "source": [
        "model = Sequential()\n",
        "model.add(Embedding(input_dim=5000, output_dim=128))\n",
        "model.add(Dense(128, activation='relu'))  # Hidden layer\n",
        "model.add(Dense(1, activation='sigmoid'))  # Output layer\n",
        "model.compile(optimizer='adam', loss='binary_crossentropy', metrics=['accuracy'])"
      ],
      "metadata": {
        "id": "qn1VJVsZEmHg"
      },
      "execution_count": 54,
      "outputs": []
    },
    {
      "cell_type": "markdown",
      "source": [
        "Training the data."
      ],
      "metadata": {
        "id": "sLIYweBME77p"
      }
    },
    {
      "cell_type": "code",
      "source": [
        "from tensorflow import keras\n",
        "from keras.layers import Embedding, Dense, Flatten\n",
        "from keras.models import Sequential\n",
        "\n",
        "model = Sequential()\n",
        "model.add(Embedding(input_dim=5000, output_dim=128))\n",
        "model.add(Flatten()) # Add a Flatten layer to convert the 3D output of Embedding to 2D\n",
        "model.add(Dense(128, activation='relu'))  # Hidden layer\n",
        "model.add(Dense(1, activation='sigmoid'))  # Output layer\n",
        "model.compile(optimizer='adam', loss='binary_crossentropy', metrics=['accuracy'])"
      ],
      "metadata": {
        "id": "SyXwwne8E_7W"
      },
      "execution_count": 57,
      "outputs": []
    },
    {
      "cell_type": "markdown",
      "source": [
        "Performance Evaluation."
      ],
      "metadata": {
        "id": "HYjGPIaLGyEX"
      }
    },
    {
      "cell_type": "code",
      "source": [
        "loss, accuracy = model.evaluate(X_test, y_test)\n",
        "print(f'Test Accuracy: {accuracy}')"
      ],
      "metadata": {
        "colab": {
          "base_uri": "https://localhost:8080/"
        },
        "id": "qfdNPQD_G301",
        "outputId": "51e0ed12-3635-4880-a80e-28037256c769"
      },
      "execution_count": 58,
      "outputs": [
        {
          "output_type": "stream",
          "name": "stdout",
          "text": [
            "\u001b[1m313/313\u001b[0m \u001b[32m━━━━━━━━━━━━━━━━━━━━\u001b[0m\u001b[37m\u001b[0m \u001b[1m4s\u001b[0m 7ms/step - accuracy: 0.0000e+00 - loss: nan\n",
            "Test Accuracy: 0.0\n"
          ]
        }
      ]
    },
    {
      "cell_type": "markdown",
      "source": [
        "Visualising the trained data."
      ],
      "metadata": {
        "id": "sR40hxrlHOvd"
      }
    },
    {
      "cell_type": "code",
      "source": [
        "#Visualizing Training History\n",
        "\n",
        "history = model.fit(X_train, y_train, epochs=5, batch_size=32, validation_data=(X_test, y_test))\n",
        "\n",
        "# Plot training & validation accuracy values\n",
        "plt.plot(history.history['accuracy'])\n",
        "plt.plot(history.history['val_accuracy'])\n",
        "plt.title('Model accuracy')\n",
        "plt.ylabel('Accuracy')\n",
        "plt.xlabel('Epoch')\n",
        "plt.legend(['Train', 'Test'], loc='upper left')\n",
        "plt.show()\n",
        "\n",
        "# Plot training & validation loss values\n",
        "plt.plot(history.history['loss'])\n",
        "plt.plot(history.history['val_loss'])\n",
        "plt.title('Model loss')\n",
        "plt.ylabel('Loss')\n",
        "plt.xlabel('Epoch')\n",
        "plt.legend(['Train', 'Test'], loc='upper left')\n",
        "plt.show()\n"
      ],
      "metadata": {
        "colab": {
          "base_uri": "https://localhost:8080/",
          "height": 1000
        },
        "id": "kZNZK6DrHQg5",
        "outputId": "49fb4296-c3e1-4f35-f2da-d23faef48bfc"
      },
      "execution_count": 61,
      "outputs": [
        {
          "output_type": "stream",
          "name": "stdout",
          "text": [
            "Epoch 1/5\n",
            "\u001b[1m1250/1250\u001b[0m \u001b[32m━━━━━━━━━━━━━━━━━━━━\u001b[0m\u001b[37m\u001b[0m \u001b[1m69s\u001b[0m 55ms/step - accuracy: 0.0000e+00 - loss: nan - val_accuracy: 0.0000e+00 - val_loss: nan\n",
            "Epoch 2/5\n",
            "\u001b[1m1250/1250\u001b[0m \u001b[32m━━━━━━━━━━━━━━━━━━━━\u001b[0m\u001b[37m\u001b[0m \u001b[1m75s\u001b[0m 50ms/step - accuracy: 0.0000e+00 - loss: nan - val_accuracy: 0.0000e+00 - val_loss: nan\n",
            "Epoch 3/5\n",
            "\u001b[1m1250/1250\u001b[0m \u001b[32m━━━━━━━━━━━━━━━━━━━━\u001b[0m\u001b[37m\u001b[0m \u001b[1m77s\u001b[0m 46ms/step - accuracy: 0.0000e+00 - loss: nan - val_accuracy: 0.0000e+00 - val_loss: nan\n",
            "Epoch 4/5\n",
            "\u001b[1m1250/1250\u001b[0m \u001b[32m━━━━━━━━━━━━━━━━━━━━\u001b[0m\u001b[37m\u001b[0m \u001b[1m80s\u001b[0m 44ms/step - accuracy: 0.0000e+00 - loss: nan - val_accuracy: 0.0000e+00 - val_loss: nan\n",
            "Epoch 5/5\n",
            "\u001b[1m1250/1250\u001b[0m \u001b[32m━━━━━━━━━━━━━━━━━━━━\u001b[0m\u001b[37m\u001b[0m \u001b[1m85s\u001b[0m 47ms/step - accuracy: 0.0000e+00 - loss: nan - val_accuracy: 0.0000e+00 - val_loss: nan\n"
          ]
        },
        {
          "output_type": "display_data",
          "data": {
            "text/plain": [
              "<Figure size 640x480 with 1 Axes>"
            ],
            "image/png": "[encoded data removed]"
          },
          "metadata": {}
        },
        {
          "output_type": "display_data",
          "data": {
            "text/plain": [
              "<Figure size 640x480 with 1 Axes>"
            ],
            "image/png": "[encoded data removed]"
          },
          "metadata": {}
        }
      ]
    },
    {
      "cell_type": "markdown",
      "source": [
        "1. **Activation Functions**:\n",
        "   - **ReLU**: This activation function helps in handling the vanishing gradient problem and allows the model to converge faster. It introduces non-linearity, which is crucial for learning complex patterns in data.\n",
        "   - **Sigmoid**: Used in the output layer for binary classification, it squashes the output between 0 and 1, representing the probability of a positive sentiment.\n",
        "\n",
        "2. **Binary Cross-Entropy**:\n",
        "   This loss function is suitable for binary classification tasks because it quantifies the difference between the predicted probabilities and the actual class labels. It effectively measures the performance of a classification model whose output is a probability value between 0 and 1.\n",
        "\n",
        "### Conclusion\n",
        "You should now have a comprehensive understanding of how to implement sentiment analysis using an ANN on the IMDb movie review dataset. The steps include data preprocessing, designing the ANN, training, and evaluating the model. Make sure to run the code and visualize the results for better understanding!\n",
        "\n"
      ],
      "metadata": {
        "id": "AsjxgXizHcEZ"
      }
    }
  ]
}